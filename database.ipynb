{
  "cells": [
    {
      "cell_type": "markdown",
      "metadata": {
        "id": "view-in-github",
        "colab_type": "text"
      },
      "source": [
        "<a href=\"https://colab.research.google.com/github/adrien-simard/entreprise-france/blob/main/database.ipynb\" target=\"_parent\"><img src=\"https://colab.research.google.com/assets/colab-badge.svg\" alt=\"Open In Colab\"/></a>"
      ]
    },
    {
      "cell_type": "markdown",
      "source": [
        "##Dowload Files "
      ],
      "metadata": {
        "id": "7T_N6X6fbjsX"
      }
    },
    {
      "cell_type": "code",
      "execution_count": null,
      "metadata": {
        "colab": {
          "base_uri": "https://localhost:8080/"
        },
        "id": "JGcAxstDQ715",
        "outputId": "eaea65a7-6f6c-4603-e852-5027775d43b7"
      },
      "outputs": [
        {
          "output_type": "execute_result",
          "data": {
            "text/plain": [
              "('idcc.csv', <http.client.HTTPMessage at 0x7f8b4a4d8a10>)"
            ]
          },
          "metadata": {},
          "execution_count": 1
        }
      ],
      "source": [
        "from six.moves import urllib\n",
        "\n",
        "DOWNLOAD_URL = \"https://static.data.gouv.fr/resources/liste-des-conventions-collectives-par-entreprise-siret/20220201-110309/transsismmo-weez-idcc-1221.csv\"\n",
        "DOWNLOAD_PATH =\"idcc.csv\" \n",
        "urllib.request.urlretrieve(DOWNLOAD_URL,DOWNLOAD_PATH)"
      ]
    },
    {
      "cell_type": "code",
      "execution_count": null,
      "metadata": {
        "colab": {
          "base_uri": "https://localhost:8080/"
        },
        "id": "z8-9Ek4PNLeV",
        "outputId": "4323425b-ba7b-49a7-855a-14b226294dae"
      },
      "outputs": [
        {
          "output_type": "execute_result",
          "data": {
            "text/plain": [
              "('idcc.csv', <http.client.HTTPMessage at 0x7f8b4a06e1d0>)"
            ]
          },
          "metadata": {},
          "execution_count": 2
        }
      ],
      "source": [
        "from six.moves import urllib\n",
        "\n",
        "DOWNLOAD_URL = \"https://static.data.gouv.fr/resources/liste-des-conventions-collectives-par-entreprise-siret/20220201-110309/transsismmo-weez-idcc-1221.csv\"\n",
        "DOWNLOAD_PATH =\"idcc.csv\" \n",
        "urllib.request.urlretrieve(DOWNLOAD_URL,DOWNLOAD_PATH)"
      ]
    },
    {
      "cell_type": "code",
      "execution_count": null,
      "metadata": {
        "colab": {
          "base_uri": "https://localhost:8080/"
        },
        "id": "5rnbzK3BROd4",
        "outputId": "3726bb6c-4b06-4580-f3cf-106ec8b53ee1"
      },
      "outputs": [
        {
          "output_type": "execute_result",
          "data": {
            "text/plain": [
              "('StockEtablissement_utf8_geo.csv.gz',\n",
              " <http.client.HTTPMessage at 0x7f8b4a06c1d0>)"
            ]
          },
          "metadata": {},
          "execution_count": 3
        }
      ],
      "source": [
        "\n",
        "DOWNLOAD_URL = \"https://files.data.gouv.fr/geo-sirene/last/StockEtablissement_utf8_geo.csv.gz\"\n",
        "DOWNLOAD_PATH =\"StockEtablissement_utf8_geo.csv.gz\" \n",
        "urllib.request.urlretrieve(DOWNLOAD_URL,DOWNLOAD_PATH)"
      ]
    },
    {
      "cell_type": "code",
      "execution_count": null,
      "metadata": {
        "colab": {
          "base_uri": "https://localhost:8080/"
        },
        "id": "hximf2DP5yCY",
        "outputId": "396b14ca-f2d7-4c33-e4a0-d53e6f61fca8"
      },
      "outputs": [
        {
          "output_type": "execute_result",
          "data": {
            "text/plain": [
              "('siren.zip', <http.client.HTTPMessage at 0x7f8b49fa8310>)"
            ]
          },
          "metadata": {},
          "execution_count": 5
        }
      ],
      "source": [
        "DOWNLOAD_URL = \"https://www.data.gouv.fr/fr/datasets/r/825f4199-cadd-486c-ac46-a65a8ea1a047\"\n",
        "DOWNLOAD_PATH =\"siren.zip\" \n",
        "urllib.request.urlretrieve(DOWNLOAD_URL,DOWNLOAD_PATH)"
      ]
    },
    {
      "cell_type": "markdown",
      "metadata": {
        "id": "riCEbN1NW0PC"
      },
      "source": [
        "\n",
        "##Data processing\n"
      ]
    },
    {
      "cell_type": "code",
      "execution_count": null,
      "metadata": {
        "id": "4KQbFdP3hoWN"
      },
      "outputs": [],
      "source": [
        "\n",
        "import zipfile\n",
        "with zipfile.ZipFile(\"siren.zip\",\"r\") as zip_ref:\n",
        "    zip_ref.extractall(\"targetdir\")"
      ]
    },
    {
      "cell_type": "code",
      "execution_count": null,
      "metadata": {
        "colab": {
          "base_uri": "https://localhost:8080/"
        },
        "id": "f03w-mTTNdna",
        "outputId": "131d39d0-ae32-4261-bae0-cd0a13da15b1"
      },
      "outputs": [
        {
          "output_type": "stream",
          "name": "stdout",
          "text": [
            "Collecting pyspark\n",
            "  Downloading pyspark-3.2.1.tar.gz (281.4 MB)\n",
            "\u001b[K     |████████████████████████████████| 281.4 MB 36 kB/s \n",
            "\u001b[?25hCollecting py4j==0.10.9.3\n",
            "  Downloading py4j-0.10.9.3-py2.py3-none-any.whl (198 kB)\n",
            "\u001b[K     |████████████████████████████████| 198 kB 58.5 MB/s \n",
            "\u001b[?25hBuilding wheels for collected packages: pyspark\n",
            "  Building wheel for pyspark (setup.py) ... \u001b[?25l\u001b[?25hdone\n",
            "  Created wheel for pyspark: filename=pyspark-3.2.1-py2.py3-none-any.whl size=281853642 sha256=ed5603a7a1d75d1f1203f0cf93421a33af893a1a83785d02dacff84604fa9b2c\n",
            "  Stored in directory: /root/.cache/pip/wheels/9f/f5/07/7cd8017084dce4e93e84e92efd1e1d5334db05f2e83bcef74f\n",
            "Successfully built pyspark\n",
            "Installing collected packages: py4j, pyspark\n",
            "Successfully installed py4j-0.10.9.3 pyspark-3.2.1\n"
          ]
        }
      ],
      "source": [
        "!pip install pyspark"
      ]
    },
    {
      "cell_type": "code",
      "execution_count": null,
      "metadata": {
        "id": "MStbwalOP9L7"
      },
      "outputs": [],
      "source": [
        "import pyspark\n",
        "from pyspark import SparkConf\n",
        "from pyspark.sql import SparkSession\n",
        "from pyspark.sql.types import IntegerType,BooleanType,DateType"
      ]
    },
    {
      "cell_type": "code",
      "execution_count": null,
      "metadata": {
        "id": "y8PzFro2QAZ3"
      },
      "outputs": [],
      "source": [
        "spark = SparkSession \\\n",
        "    .builder \\\n",
        "    .appName(\"Spark app\") \\\n",
        "    .getOrCreate()"
      ]
    },
    {
      "cell_type": "code",
      "source": [
        "import pandas as pd\n",
        "df = pd.read_csv('targetdir/StockUniteLegale_utf8.csv',nrows=1000)"
      ],
      "metadata": {
        "id": "TX825Tgegqc5"
      },
      "execution_count": null,
      "outputs": []
    },
    {
      "cell_type": "code",
      "execution_count": null,
      "metadata": {
        "id": "A4OK0TRhMqLa"
      },
      "outputs": [],
      "source": [
        "idcc = spark.read.csv(\"idcc.csv\",header=True)\n",
        "idcc = idcc.withColumnRenamed(\"SIRET\",\"siret_idcc\")"
      ]
    },
    {
      "cell_type": "code",
      "execution_count": null,
      "metadata": {
        "id": "8_fqeU7MUVfW"
      },
      "outputs": [],
      "source": [
        "siren = spark.read.csv('targetdir/StockUniteLegale_utf8.csv',header=True)"
      ]
    },
    {
      "cell_type": "code",
      "execution_count": null,
      "metadata": {
        "id": "J0Ss93H6SxWS"
      },
      "outputs": [],
      "source": [
        "sirengeo = spark.read.csv(\"StockEtablissement_utf8_geo.csv.gz\",header=True)\n",
        "sirengeo = sirengeo.withColumnRenamed(\"siren\",\"siren_geo\")"
      ]
    },
    {
      "cell_type": "code",
      "execution_count": null,
      "metadata": {
        "id": "isoNkjRf6gu5"
      },
      "outputs": [],
      "source": [
        "siren = siren.select(\"siren\",\"denominationUniteLegale\",\"nomUniteLegale\",\"nomUsageUniteLegale\",\"categorieJuridiqueUniteLegale\",\"activitePrincipaleUniteLegale\")"
      ]
    },
    {
      "cell_type": "code",
      "execution_count": null,
      "metadata": {
        "id": "DeifAACAMTem"
      },
      "outputs": [],
      "source": [
        "sirengeo = sirengeo.select(\"siren_geo\",\"siret\",\"dateCreationEtablissement\",\"trancheEffectifsEtablissement\",\"geo_adresse\",\"codePostalEtablissement\")"
      ]
    },
    {
      "cell_type": "code",
      "execution_count": null,
      "metadata": {
        "id": "ZbJcKWvq8mUU"
      },
      "outputs": [],
      "source": [
        "employeurGeo = sirengeo.join(siren, sirengeo.siren_geo == siren.siren, 'inner').drop(\"siren_geo\")"
      ]
    },
    {
      "cell_type": "code",
      "execution_count": null,
      "metadata": {
        "id": "oRbwovk49K3k"
      },
      "outputs": [],
      "source": [
        "merged = employeurGeo.join(idcc, employeurGeo.siret == idcc.siret_idcc, how='inner').drop(\"siret_idcc\")"
      ]
    },
    {
      "cell_type": "code",
      "execution_count": null,
      "metadata": {
        "id": "ITZCT9P4RaL9"
      },
      "outputs": [],
      "source": [
        "#merged = merged.select(\"nomUniteLegale\",\"siren\",\"siret\",\"statutDiffusionEtablissement\",\"dateCreationEtablissement\",\"trancheEffectifsEtablissement\",\"etablissementSiege\",\"nomUsageUniteLegale\",\"categorieJuridiqueUniteLegale\",\"activitePrincipaleUniteLegale\",\"geo_adresse\",\"longitude\",\"latitude\",\"codePostalEtablissement\",\"IDCC\")\n",
        "merged.na.drop(subset=\"activitePrincipaleUniteLegale\")\n",
        "merged = merged.dropDuplicates([\"siret\"])"
      ]
    },
    {
      "cell_type": "code",
      "execution_count": null,
      "metadata": {
        "id": "7aBIZUQ_Rh5Q"
      },
      "outputs": [],
      "source": [
        "from pyspark.sql.functions import concat,col\n",
        "from pyspark.sql.functions import lit\n",
        "\n",
        "merged = merged.withColumn(\"contact\",lit(\"https://www.pagesjaunes.fr/siret/\"))\n",
        "#merged = merged.withColumn(\"contact\",concat(merged.contact,merged.siret))\n",
        "merged = merged.select(concat(merged.contact,merged.siret)\n",
        "              .alias(\"contact\"),\"siren\",\"denominationUniteLegale\",\"siret\",\"dateCreationEtablissement\",\"trancheEffectifsEtablissement\",\"nomUsageUniteLegale\",\"categorieJuridiqueUniteLegale\",\"activitePrincipaleUniteLegale\",\"geo_adresse\",\"codePostalEtablissement\",\"IDCC\")\n"
      ]
    },
    {
      "cell_type": "code",
      "execution_count": null,
      "metadata": {
        "id": "06-9D8Bl-JK-"
      },
      "outputs": [],
      "source": [
        "opco = spark.read.csv(\"opco.csv\",sep=\";\",header=True)\n",
        "opco = opco.withColumnRenamed(\"IDCC\",\"IDCC_opco\")\n",
        "opco = opco.withColumn(\"IDCC_opco\",opco.IDCC_opco.cast('integer'))\n",
        "merged = merged.withColumn(\"IDCC\",merged.IDCC.cast('integer'))"
      ]
    },
    {
      "cell_type": "code",
      "execution_count": null,
      "metadata": {
        "id": "XoPIVxgcG-ap"
      },
      "outputs": [],
      "source": [
        "merged = merged.join(opco, merged.IDCC == opco.IDCC_opco, how='inner').drop(\"IDCC_opco\").drop(\"obs\")"
      ]
    },
    {
      "cell_type": "code",
      "source": [
        "merged.show()"
      ],
      "metadata": {
        "colab": {
          "base_uri": "https://localhost:8080/"
        },
        "id": "5_VtXZzqqdkU",
        "outputId": "934a93b5-ea48-426e-b8a0-464e170afa6c"
      },
      "execution_count": null,
      "outputs": [
        {
          "output_type": "stream",
          "name": "stdout",
          "text": [
            "+--------------------+---------+--------------+--------------+----------------------------+-------------------------+-----------------------------+------------------+-------------------+-----------------------------+-----------------------------+--------------------+---------+---------+-----------------------+----+------------------------+--------------------+---------+--------------+-------------------+------------------------+--------------------+\n",
            "|             contact|    siren|nomUniteLegale|         siret|statutDiffusionEtablissement|dateCreationEtablissement|trancheEffectifsEtablissement|etablissementSiege|nomUsageUniteLegale|categorieJuridiqueUniteLegale|activitePrincipaleUniteLegale|         geo_adresse|longitude| latitude|codePostalEtablissement|IDCC|Operateur de competences|             Libelle|siren_nom|nomUniteLegale|nomUsageUniteLegale|Operateur de competences|             Libelle|\n",
            "+--------------------+---------+--------------+--------------+----------------------------+-------------------------+-----------------------------+------------------+-------------------+-----------------------------+-----------------------------+--------------------+---------+---------+-----------------------+----+------------------------+--------------------+---------+--------------+-------------------+------------------------+--------------------+\n",
            "|https://www.pages...|005720164|          null|00572016400028|                           O|               1983-09-28|                           22|              true|               null|                         5599|                       86.10Z|236 Route d’Amien...| 1.862632|50.098755|                  80100|2264|              OPCO Sante|Convention collec...|005720164|          null|               null|              OPCO Sante|Convention collec...|\n",
            "|https://www.pages...|005920194|          null|00592019400031|                           O|               2013-04-24|                           02|             false|               null|                         5499|                       46.61Z|Route Nationale 8...| 2.078309|50.017792|                  80420|1404|    OPCO entreprises ...|Convention collec...|005920194|          null|               null|    OPCO entreprises ...|Convention collec...|\n",
            "|https://www.pages...|005920194|          null|00592019400023|                           O|               1990-01-01|                           02|             false|               null|                         5499|                       46.61Z|10 Place du Génér...| 1.771241| 50.21512|                  80860|1404|    OPCO entreprises ...|Convention collec...|005920194|          null|               null|    OPCO entreprises ...|Convention collec...|\n",
            "|https://www.pages...|005920194|          null|00592019400015|                           O|               1900-01-01|                           11|             false|               null|                         5499|                       46.61Z|21 Rue du Général...| 1.958309|50.217099|                  80150|1404|    OPCO entreprises ...|Convention collec...|005920194|          null|               null|    OPCO entreprises ...|Convention collec...|\n",
            "|https://www.pages...|006480206|          null|00648020600017|                           O|               1964-01-01|                           12|              true|               null|                         5710|                       11.03Z|10 Rue André Caux...|-1.955068|47.519783|                  44530| 493|                 OCAPIAT|Convention collec...|006480206|          null|               null|                 OCAPIAT|Convention collec...|\n",
            "|https://www.pages...|006720064|          null|00672006400036|                           O|               1990-10-18|                           21|             false|               null|                         5710|                       45.11Z|102 Route de Doul...| 1.857271|50.108869|                  80100|1090|           OPCO Mobilite|Convention collec...|006720064|          null|               null|           OPCO Mobilite|Convention collec...|\n",
            "|https://www.pages...|006720064|          null|00672006400051|                           O|               1999-04-01|                           03|             false|               null|                         5710|                       45.11Z|Route Département...|1.7309507|50.651017|                  80120|1090|           OPCO Mobilite|Convention collec...|006720064|          null|               null|           OPCO Mobilite|Convention collec...|\n",
            "|https://www.pages...|006720064|          null|00672006400044|                           O|               1994-07-01|                           02|             false|               null|                         5710|                       45.11Z|2b Rue Charles de...|  1.56131| 49.98393|                  80220|1090|           OPCO Mobilite|Convention collec...|006720064|          null|               null|           OPCO Mobilite|Convention collec...|\n",
            "|https://www.pages...|006720064|          null|00672006400069|                           O|               2007-01-05|                           12|             false|               null|                         5710|                       45.11Z|23 Route de Mers ...| 1.418245|50.058426|                  76260|1090|           OPCO Mobilite|Convention collec...|006720064|          null|               null|           OPCO Mobilite|Convention collec...|\n",
            "|https://www.pages...|006950034|          null|00695003400022|                           O|               1983-12-31|                           02|              true|               null|                         5499|                       47.22Z|18 Rue Colonel Pa...| 6.234313|44.091584|                  04000| 992|    OPCO entreprises ...|Convention collec...|006950034|          null|               null|    OPCO entreprises ...|Convention collec...|\n",
            "|https://www.pages...|007120108|          null|00712010800035|                           O|               1900-01-01|                           02|              true|               null|                         5499|                       96.01B|6 Rue Albert Roze...| 2.293324|49.891988|                  80000|2002|    OPCO entreprises ...|Convention collec...|007120108|          null|               null|    OPCO entreprises ...|Convention collec...|\n",
            "|https://www.pages...|007173248|       CHICAUD|00717324800043|                           O|               1989-11-02|                           02|              true|               null|                         1000|                       96.02A|4 Rue du Bois 445...|-2.429326|47.276437|                  44510|2596|    OPCO entreprises ...|Convention collec...|007173248|       CHICAUD|               null|    OPCO entreprises ...|Convention collec...|\n",
            "|https://www.pages...|007180516|          null|00718051600135|                           O|               2013-12-19|                           11|              true|               null|                         5515|                       42.99Z|6 Place Pierre Sé...| -2.21132| 47.28595|                  44600|1512|    OPCO entreprises ...|Convention collec...|007180516|          null|               null|    OPCO entreprises ...|Convention collec...|\n",
            "|https://www.pages...|007211253|        HAQUET|00721125300021|                           O|               1996-04-01|                           01|              true|               null|                         1000|                       45.20A|29 Route d’Amiens...| 1.847619|50.105609|                  80100|1090|           OPCO Mobilite|Convention collec...|007211253|        HAQUET|               null|           OPCO Mobilite|Convention collec...|\n",
            "|https://www.pages...|007280217|          null|00728021700014|                           O|               1972-01-01|                           12|              true|               null|                         5710|                       47.11D|25 Rue Maurice Sa...| -2.09264|47.437081|                  44160|2216|           OPCO Commerce|Convention collec...|007280217|          null|               null|           OPCO Commerce|Convention collec...|\n",
            "|https://www.pages...|007280365|          null|00728036500136|                           O|               2017-03-10|                         null|              true|               null|                         5710|                       46.39A|Rue Nicolas Apper...|-1.539906|47.152011|                  44400| 573|    OPCO entreprises ...|Convention collec...|007280365|          null|               null|    OPCO entreprises ...|Convention collec...|\n",
            "|https://www.pages...|007280365|          null|00728036500128|                           O|               2014-12-28|                           21|             false|               null|                         5710|                       46.39A|Allee de Kerivarh...|-2.712522| 47.66038|                  56000| 573|    OPCO entreprises ...|Convention collec...|007280365|          null|               null|    OPCO entreprises ...|Convention collec...|\n",
            "|https://www.pages...|008021289|          null|00802128900015|                           O|               1994-12-25|                           01|              true|               null|                         9110|                       81.10Z|40 Boulevard Gamb...| 1.257017|45.828181|                  87000|1043|    OPCO entreprises ...|Convention collec...|008021289|          null|               null|    OPCO entreprises ...|Convention collec...|\n",
            "|https://www.pages...|008021859|          null|00802185900015|                           O|               1994-12-25|                           01|              true|               null|                         9110|                       81.10Z|Rue Armand Dutrei...| 1.235384| 45.83174|                  87000|1043|    OPCO entreprises ...|Convention collec...|008021859|          null|               null|    OPCO entreprises ...|Convention collec...|\n",
            "|https://www.pages...|008022162|          null|00802216200013|                           O|               1994-12-25|                           01|              true|               null|                         9110|                       81.10Z|73 Rue d’Antony 8...| 1.241775|45.831898|                  87000|1043|    OPCO entreprises ...|Convention collec...|008022162|          null|               null|    OPCO entreprises ...|Convention collec...|\n",
            "+--------------------+---------+--------------+--------------+----------------------------+-------------------------+-----------------------------+------------------+-------------------+-----------------------------+-----------------------------+--------------------+---------+---------+-----------------------+----+------------------------+--------------------+---------+--------------+-------------------+------------------------+--------------------+\n",
            "only showing top 20 rows\n",
            "\n"
          ]
        }
      ]
    },
    {
      "cell_type": "code",
      "execution_count": null,
      "metadata": {
        "id": "V7zOig2RRqBZ"
      },
      "outputs": [],
      "source": [
        "merged.repartition(1).write.csv('/content/drive/MyDrive/FI5/sirenpreprocessed1.csv',header=True)"
      ]
    }
  ],
  "metadata": {
    "accelerator": "TPU",
    "colab": {
      "collapsed_sections": [],
      "name": "database.ipynb",
      "provenance": [],
      "toc_visible": true,
      "mount_file_id": "1QXzX6Q8yYHxmZvBe-9xgcdRLnUc9BSqh",
      "authorship_tag": "ABX9TyMJ+m92XFeA/BjjCV90K7os",
      "include_colab_link": true
    },
    "kernelspec": {
      "display_name": "Python 3",
      "name": "python3"
    },
    "language_info": {
      "name": "python"
    }
  },
  "nbformat": 4,
  "nbformat_minor": 0
}